{
 "cells": [
  {
   "cell_type": "code",
   "execution_count": 1,
   "metadata": {},
   "outputs": [
    {
     "name": "stdout",
     "output_type": "stream",
     "text": [
      "loading data\n",
      "initiating connection\n",
      "downloading latest headers\n",
      "downloading compact filters\n",
      "getting range 1447001 to 1448000\n",
      "getting range 1448001 to 1449000\n",
      "getting range 1449001 to 1449020\n",
      "writing to disk\n",
      "scanning blocks for relevant transactions\n",
      "scanning from 1449009 to 1449019\n"
     ]
    }
   ],
   "source": [
    "from importlib import reload\n",
    "\n",
    "import wallet\n",
    "import network\n",
    "reload(wallet)\n",
    "reload(network)\n",
    "\n",
    "from wallet import Wallet\n",
    "\n",
    "w = Wallet.read()\n",
    "w.scan_blockchain(w.sync_height)"
   ]
  },
  {
   "cell_type": "code",
   "execution_count": 2,
   "metadata": {},
   "outputs": [
    {
     "name": "stdout",
     "output_type": "stream",
     "text": [
      "········\n",
      "sending the transaction\n",
      "sending tx\n",
      "6a20a7df0cc0255103dcce27f3b9009ae6582783bb309d896387deb851d02185\n"
     ]
    }
   ],
   "source": [
    "print(w.simple_send(w.address(), 500000))"
   ]
  }
 ],
 "metadata": {
  "kernelspec": {
   "display_name": "Python 3",
   "language": "python",
   "name": "python3"
  },
  "language_info": {
   "codemirror_mode": {
    "name": "ipython",
    "version": 3
   },
   "file_extension": ".py",
   "mimetype": "text/x-python",
   "name": "python",
   "nbconvert_exporter": "python",
   "pygments_lexer": "ipython3",
   "version": "3.6.5"
  }
 },
 "nbformat": 4,
 "nbformat_minor": 2
}
