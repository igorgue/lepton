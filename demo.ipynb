{
 "cells": [
  {
   "cell_type": "code",
   "execution_count": 1,
   "metadata": {},
   "outputs": [],
   "source": [
    "from importlib import reload\n",
    "import logging\n",
    "\n",
    "import chainstore\n",
    "import wallet\n",
    "import network\n",
    "\n",
    "logging.basicConfig(format='%(levelname)s:%(message)s', level=logging.INFO)\n"
   ]
  },
  {
   "cell_type": "code",
   "execution_count": 5,
   "metadata": {
    "scrolled": true
   },
   "outputs": [
    {
     "name": "stderr",
     "output_type": "stream",
     "text": [
      "INFO:initiating connection\n",
      "INFO:downloading headers 1449428 to 1451427\n",
      "INFO:downloaded headers to 1449438 inclusive\n",
      "INFO:getting filters range 1449001 to 1449438\n"
     ]
    },
    {
     "name": "stdout",
     "output_type": "stream",
     "text": [
      "tb1qjmed8fqhccnter0sumt3ewcvjuevt70mvrlcqz\n"
     ]
    },
    {
     "name": "stderr",
     "output_type": "stream",
     "text": [
      "INFO:scanning blocks for relevant transactions\n",
      "INFO:scanning from 1449437 to 1449438\n",
      "INFO:interesting block 1449438\n",
      "INFO:interesting tx ae8286494451e40aaa1c584432e0a09e7eefc9a95f889f98b25cee0aa61cf284\n"
     ]
    },
    {
     "name": "stdout",
     "output_type": "stream",
     "text": [
      "········\n"
     ]
    },
    {
     "name": "stderr",
     "output_type": "stream",
     "text": [
      "INFO:sending the transaction\n",
      "INFO:sending tx: bc25d91991a2f4d2c13f14a60297b2bec0b5a2cf74ad9b2e5555fc32bb712849\n"
     ]
    },
    {
     "name": "stdout",
     "output_type": "stream",
     "text": [
      "bc25d91991a2f4d2c13f14a60297b2bec0b5a2cf74ad9b2e5555fc32bb712849\n"
     ]
    }
   ],
   "source": [
    "reload(wallet)\n",
    "reload(chainstore)\n",
    "import chainstore\n",
    "from wallet import Wallet\n",
    "\n",
    "w = Wallet.open(filename='jup.wallet')\n",
    "print(w.address())\n",
    "w.rescan()\n",
    "print(w.simple_send(w.address(), 5000000))"
   ]
  }
 ],
 "metadata": {
  "kernelspec": {
   "display_name": "Python 3",
   "language": "python",
   "name": "python3"
  },
  "language_info": {
   "codemirror_mode": {
    "name": "ipython",
    "version": 3
   },
   "file_extension": ".py",
   "mimetype": "text/x-python",
   "name": "python",
   "nbconvert_exporter": "python",
   "pygments_lexer": "ipython3",
   "version": "3.6.5"
  }
 },
 "nbformat": 4,
 "nbformat_minor": 2
}
